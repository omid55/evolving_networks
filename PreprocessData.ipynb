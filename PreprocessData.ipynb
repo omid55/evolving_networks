{
 "cells": [
  {
   "cell_type": "code",
   "execution_count": 160,
   "metadata": {
    "collapsed": false
   },
   "outputs": [],
   "source": [
    "#Omid55\n",
    "# all imports\n",
    "import numpy as np\n",
    "import seaborn as sns\n",
    "from scipy.sparse import csr_matrix"
   ]
  },
  {
   "cell_type": "code",
   "execution_count": 161,
   "metadata": {
    "collapsed": true
   },
   "outputs": [],
   "source": [
    "# load data from text edges list (sparse representation of edges)\n",
    "# output =>\n",
    "# input  =>\n",
    "# fname: \n",
    "# ...\n",
    "def load_data(fname, delim, skip_rows_count, time_column_index):\n",
    "    edges = np.loadtxt(open(fname,\"rb\"),delimiter=delim,skiprows=skip_rows_count)\n",
    "    return edges"
   ]
  },
  {
   "cell_type": "code",
   "execution_count": null,
   "metadata": {
    "collapsed": true
   },
   "outputs": [],
   "source": [
    "\n",
    "def build_unconstrained_network(subset_of_edges, N):\n",
    "    data = np.ones(len(subset_of_edges))\n",
    "    row = np.subtract(subset_of_edges[:,0],1)\n",
    "    col = np.subtract(subset_of_edges[:,1],1)\n",
    "    A = csr_matrix( (data,(row,col)), shape=(N,N) )\n",
    "    return A"
   ]
  },
  {
   "cell_type": "code",
   "execution_count": 162,
   "metadata": {
    "collapsed": false
   },
   "outputs": [],
   "source": [
    "# process the edges list created from load_data and build evolving networks\n",
    "# output =>  array of adjacency matrixes\n",
    "# inputs =>\n",
    "# edges:         edges list\n",
    "# window_size:   window size in time not in number of edges\n",
    "# step_size:     step size (also) in time not in number of edges\n",
    "def process_data(edges, window_size, step_size):\n",
    "    N = int(max(edges[:,0].max(), edges[:,1].max()))   # nodes count\n",
    "    "
   ]
  },
  {
   "cell_type": "code",
   "execution_count": null,
   "metadata": {
    "collapsed": true
   },
   "outputs": [],
   "source": []
  },
  {
   "cell_type": "code",
   "execution_count": 163,
   "metadata": {
    "collapsed": false
   },
   "outputs": [],
   "source": [
    "e = load_data('fb-forum.txt', ',', 0, 2)\n",
    "#e = load_data('dblp_coauthor/out.dblp_coauthor', ' ', 1, 3)"
   ]
  },
  {
   "cell_type": "code",
   "execution_count": 164,
   "metadata": {
    "collapsed": false
   },
   "outputs": [],
   "source": [
    "A = process_data(e,0,0)"
   ]
  },
  {
   "cell_type": "code",
   "execution_count": 165,
   "metadata": {
    "collapsed": false
   },
   "outputs": [
    {
     "name": "stdout",
     "output_type": "stream",
     "text": [
      "(899, 899)\n"
     ]
    },
    {
     "data": {
      "text/plain": [
       "0.0087713328738766722"
      ]
     },
     "execution_count": 165,
     "metadata": {},
     "output_type": "execute_result"
    }
   ],
   "source": [
    "print(A.shape)\n",
    "(A > 0).sum() / (A.shape[0]*A.shape[1])"
   ]
  },
  {
   "cell_type": "code",
   "execution_count": null,
   "metadata": {
    "collapsed": true
   },
   "outputs": [],
   "source": []
  },
  {
   "cell_type": "code",
   "execution_count": null,
   "metadata": {
    "collapsed": true
   },
   "outputs": [],
   "source": []
  }
 ],
 "metadata": {
  "kernelspec": {
   "display_name": "Python 3",
   "language": "python",
   "name": "python3"
  },
  "language_info": {
   "codemirror_mode": {
    "name": "ipython",
    "version": 3
   },
   "file_extension": ".py",
   "mimetype": "text/x-python",
   "name": "python",
   "nbconvert_exporter": "python",
   "pygments_lexer": "ipython3",
   "version": "3.4.3"
  }
 },
 "nbformat": 4,
 "nbformat_minor": 0
}

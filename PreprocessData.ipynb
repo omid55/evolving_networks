{
 "cells": [
  {
   "cell_type": "markdown",
   "metadata": {
    "collapsed": false
   },
   "source": [
    "# Preprocess The Dynamic Network Data and Build Small Subnetworks"
   ]
  },
  {
   "cell_type": "markdown",
   "metadata": {},
   "source": [
    "All Imports"
   ]
  },
  {
   "cell_type": "code",
   "execution_count": null,
   "metadata": {
    "collapsed": true
   },
   "outputs": [],
   "source": [
    "#Omid55\n",
    "# all imports\n",
    "import numpy as np\n",
    "import seaborn as sns\n",
    "from scipy.sparse import csr_matrix\n",
    "import warnings\n",
    "import math"
   ]
  },
  {
   "cell_type": "code",
   "execution_count": 6,
   "metadata": {
    "collapsed": true
   },
   "outputs": [],
   "source": [
    "# load data from text edges list (sparse representation of edges)\n",
    "# output =>\n",
    "# input  =>\n",
    "# fname: \n",
    "# ...\n",
    "def load_data(fname, delim, skip_rows_count, time_column_index):\n",
    "    edges = np.loadtxt(open(fname,\"rb\"),delimiter=delim,skiprows=skip_rows_count)\n",
    "    return edges"
   ]
  },
  {
   "cell_type": "code",
   "execution_count": 90,
   "metadata": {
    "collapsed": true
   },
   "outputs": [],
   "source": [
    "# \n",
    "# ...\n",
    "def build_unconstrained_network(subset_of_edges, N):\n",
    "    data = np.ones(len(subset_of_edges))\n",
    "    row = np.subtract(subset_of_edges[:,0],1)\n",
    "    col = np.subtract(subset_of_edges[:,1],1)\n",
    "    A = csr_matrix( (data,(row,col)), shape=(N,N) )\n",
    "    #D = A.todense()\n",
    "    return A"
   ]
  },
  {
   "cell_type": "code",
   "execution_count": 128,
   "metadata": {
    "collapsed": false
   },
   "outputs": [],
   "source": [
    "# process the edges list created from load_data and build evolving networks\n",
    "# output =>  array of adjacency matrixes\n",
    "# inputs =>\n",
    "# edges:         edges list\n",
    "# window_size:   window size in time or in number of edges\n",
    "# step_size:     step size (also) in time not in number of edges\n",
    "# edges_as_unit:      window size in number of edges or in time\n",
    "def process_data(edges, window_size, step_size, edges_as_unit=True):\n",
    "    if(window_size < step_size):\n",
    "        warnings.warn(\"You are wasting some data points. To fix that, window_size should be >= step_size.\", \n",
    "                      UserWarning)\n",
    "    N = int(max(edges[:,0].max(), edges[:,1].max()))   # nodes count\n",
    "    \n",
    "    # in number of edges:\n",
    "    E = len(edges)                                     # edges count\n",
    "    n = math.floor((E - window_size) / step_size) + 1              # the number of chunks that will be created\n",
    "    print(\"Info=>   Nodes:\", N, \"  Edges:\", E, \"  Networks:\", n, \"  WindowSize:\", window_size, \"  StepSize:\",\n",
    "          step_size, \"  SamplesLeftOff:\", E - window_size - (n-1)*step_size)\n",
    "    As = dict.fromkeys(set(range(n)))\n",
    "    \n",
    "    for i in range(0,n):\n",
    "        subset_of_edges = edges[i * step_size: i * step_size + window_size];\n",
    "        As[i] = build_unconstrained_network(subset_of_edges, N)\n",
    "    return As"
   ]
  },
  {
   "cell_type": "code",
   "execution_count": null,
   "metadata": {
    "collapsed": true
   },
   "outputs": [],
   "source": []
  },
  {
   "cell_type": "code",
   "execution_count": 131,
   "metadata": {
    "collapsed": false
   },
   "outputs": [
    {
     "name": "stdout",
     "output_type": "stream",
     "text": [
      "Info=>   Nodes: 899   Edges: 33720   Networks: 839   WindowSize: 200   StepSize: 40   SamplesLeftOff: 0\n"
     ]
    }
   ],
   "source": [
    "e = load_data(\"fb-forum.txt\", ',', 0, 2)\n",
    "#e = load_data('dblp_coauthor/out.dblp_coauthor', ' ', 1, 3)\n",
    "\n",
    "As = process_data(e, 200, 40)"
   ]
  },
  {
   "cell_type": "code",
   "execution_count": null,
   "metadata": {
    "collapsed": true
   },
   "outputs": [],
   "source": []
  },
  {
   "cell_type": "code",
   "execution_count": null,
   "metadata": {
    "collapsed": true
   },
   "outputs": [],
   "source": []
  }
 ],
 "metadata": {
  "kernelspec": {
   "display_name": "Python 3",
   "language": "python",
   "name": "python3"
  },
  "language_info": {
   "codemirror_mode": {
    "name": "ipython",
    "version": 3
   },
   "file_extension": ".py",
   "mimetype": "text/x-python",
   "name": "python",
   "nbconvert_exporter": "python",
   "pygments_lexer": "ipython3",
   "version": "3.4.3"
  }
 },
 "nbformat": 4,
 "nbformat_minor": 0
}
